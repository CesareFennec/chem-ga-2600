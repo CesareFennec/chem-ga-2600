{
 "cells": [
  {
   "cell_type": "markdown",
   "metadata": {},
   "source": [
    "# Radial distribution function for an ideal gas\n",
    "\n",
    "This week we will compute the radial distribution function for an ideal gas, which will get us ready to do it for a real system next time"
   ]
  },
  {
   "cell_type": "markdown",
   "metadata": {},
   "source": [
    "First we have to generate a \"configuration\" of an ideal gas. We'll do it in 2D. Fortunately, this is easy because it just means the x and y for each particle are random between 0 and L. "
   ]
  },
  {
   "cell_type": "code",
   "execution_count": null,
   "metadata": {},
   "outputs": [],
   "source": [
    "#setup the notebook\n",
    "%pylab inline\n",
    "import numpy as np\n"
   ]
  },
  {
   "cell_type": "markdown",
   "metadata": {},
   "source": [
    "### Intro, random number generator reminder"
   ]
  },
  {
   "cell_type": "code",
   "execution_count": null,
   "metadata": {},
   "outputs": [],
   "source": [
    "# last time we saw that if we want N random numbers we can do\n",
    "# np.random.random(size=N)\n",
    "test_array = np.random.random(size=6)\n",
    "print(\"raw array:\",test_array)\n",
    "\n",
    "# if we want an array of dimensions 3 by 2 instead, we can use the reshape function\n",
    "print( \"reshaped array:\\n\",test_array.reshape(3,2) )\n",
    "\n",
    "#we can also generate a random array with this shape right away\n",
    "\n",
    "test_array_2 = np.random.random(size=(3,2))\n",
    "print(\"raw array 2:\\n\",test_array_2)\n",
    "\n",
    "# we can get the minimum and maximum of a numpy array using the min and max functions\n",
    "long_array = np.random.random(size=1000)\n",
    "print( \"long array min:\", long_array.min() )\n",
    "print( \"long array max:\", long_array.max() )\n",
    "\n",
    "#these should be very close to 0 and 1, because np.random.random returns numbers in the range 0 to 1.\n",
    "#Let's say we want to convert long_array into a new array, long_array_2, with numbers in the range 0 to 5.\n",
    "# **Figure out how to do that** and make sure that you get min and max close to 0 and 5\n",
    "\n",
    "long_array_2 = 5*long_array\n",
    "print( \"long array 2 min:\", long_array_2.min() )\n",
    "print( \"long array 2 max:\", long_array_2.max() )"
   ]
  },
  {
   "cell_type": "markdown",
   "metadata": {},
   "source": [
    "### Part 1, Generating configurations"
   ]
  },
  {
   "cell_type": "code",
   "execution_count": null,
   "metadata": {},
   "outputs": [],
   "source": [
    "#this will be a function that returns a configuration\n",
    "def generate_configuration(N_particles, box_L):\n",
    "    #use np.random.random and other things from the previous part to generate a configuration \n",
    "    #which is an array with N_particles rows and 2 columns for x and y\n",
    "    # the particle positions in x and y should be between 0 and box_L\n",
    "    \n",
    "    configuration = \n",
    "    \n",
    "    return configuration\n",
    "\n",
    "#this will draw a single configuration\n",
    "def plot_configuration(configuration,box_L):\n",
    "    plt.figure(figsize=(4,4))\n",
    "    plt.axis('equal')\n",
    "    plt.scatter(configuration[:,0],configuration[:,1])\n",
    "    plt.xlim(0,box_L)\n",
    "    plt.ylim(0,box_L)\n",
    "\n",
    "#this will test if your function is working correctly\n",
    "test_box_L = 20\n",
    "test_num_particles = 100\n",
    "configuration1 = generate_configuration(test_num_particles,test_box_L)\n",
    "plot_configuration(configuration1,test_box_L)"
   ]
  },
  {
   "cell_type": "markdown",
   "metadata": {},
   "source": [
    "### Part 2, generating a list of distances"
   ]
  },
  {
   "cell_type": "code",
   "execution_count": null,
   "metadata": {},
   "outputs": [],
   "source": [
    "#let's write a function that gives a list of distances between particles, and test it on configuration 1\n",
    "# there are fancier ways to do this, but let's do it with 2 for loops\n",
    "def compute_distances( configuration ):\n",
    "    distance_list = []\n",
    "    num_particles = configuration.shape[0]\n",
    "    for i in range(num_particles):\n",
    "        for j in range(num_particles):\n",
    "            # we don't want to count distances of particles to themselves\n",
    "            if i == j: continue\n",
    "            posi = configuration[i]\n",
    "            posj = configuration[j]\n",
    "            # compute the euclidian distance between pos1 and pos2 and call it 'dist' \n",
    "            # there are many ways to do this\n",
    "            # you can certainly look up how to do this online if you can't figure it out right away\n",
    "            \n",
    "            dist = \n",
    "            \n",
    "            distance_list.append(dist)\n",
    "    return np.array(distance_list)\n",
    "\n",
    "#the length of the returned distance list should be N*(N-1), let's check\n",
    "distance_list_1 = compute_distances(configuration1)\n",
    "print(\"Does the number of distances equal the number expected?\")\n",
    "print(len(distance_list_1),\"=\", test_num_particles*(test_num_particles-1) )"
   ]
  },
  {
   "cell_type": "markdown",
   "metadata": {},
   "source": [
    "### Part 3, histogramming the distances\n",
    "Now we will histogram the distance list that we just made. That means count how often a distance occurs between r and r+dr. We can use the numpy histogram function. We can tell it which bins to count inside of. \n",
    "\n",
    "We will generate a histogram only from 0 to box_L/2 for reasons that will make more sense in part 4 \n",
    "\n",
    "First, look at the documentation for the [numpy histogram] (https://docs.scipy.org/doc/numpy/reference/generated/numpy.histogram.html) function, and the examples!"
   ]
  },
  {
   "cell_type": "code",
   "execution_count": null,
   "metadata": {},
   "outputs": [],
   "source": [
    "#first, let's check how close and far apart the particles are\n",
    "print(\"Min distance:\",distance_list_1.min())\n",
    "print(\"Max distance:\",distance_list_1.max())"
   ]
  },
  {
   "cell_type": "code",
   "execution_count": null,
   "metadata": {},
   "outputs": [],
   "source": [
    "def histogram_distances_default(distance_list):\n",
    "    hist, bin_edges = np.histogram( distance_list )\n",
    "    return hist, bin_edges\n",
    "\n",
    "def plot_histogram(hist,bin_edges):\n",
    "    #for N bins, there are N+1 bin edges. The centers can be found by averaging the positions of \n",
    "    # bin edge0 and 1, 1 and 2, ..., N-1 and N\n",
    "    bin_centers = (bin_edges[:-1]+bin_edges[1:])/2.0\n",
    "    plot(bin_centers,hist,marker='o')\n",
    "    ylabel(\"N(r)\")\n",
    "    xlabel(\"$r$\")\n",
    "\n",
    "dist_hist_1, bin_edges_1 = histogram_distances_default(distance_list_1)\n",
    "plot_histogram(dist_hist_1,bin_edges_1)"
   ]
  },
  {
   "cell_type": "markdown",
   "metadata": {},
   "source": [
    "As we talked about in class, the number of particles in distance away between r and r+dr grows with r. but then it goes back down. This is because of **boundary effects**. You get to the edge pretty fast. \n",
    "\n",
    "Moreover, the maximum distance 2 paricles can be apart is L*sqrt(2) (do you see why?). We will only histogram out to L/2 for reasons that will make more sense in the next section\n"
   ]
  },
  {
   "cell_type": "code",
   "execution_count": null,
   "metadata": {},
   "outputs": [],
   "source": [
    "def histogram_distances(distance_list, max_dist, bin_size):\n",
    "    # this is the list of bins in which to calculate\n",
    "    bins = np.arange(0, max_dist+bin_size, bin_size)\n",
    "    hist, bin_edges = np.histogram( distance_list, bins=bins )\n",
    "    return hist, bin_edges\n",
    "\n",
    "\n",
    "#choose a bin size so that this becomes relatively smooth without throwing away too much information\n",
    "#set max dist to the box size of this configuration *sqrt(2)/2.\n",
    "\n",
    "test_bin_size = \n",
    "max_dist = \n",
    "dist_hist_1, bin_edges_1 = histogram_distances(distance_list_1,max_dist=max_dist, \\\n",
    "                                               bin_size=test_bin_size)\n",
    "plot_histogram(dist_hist_1,bin_edges_1)"
   ]
  },
  {
   "cell_type": "markdown",
   "metadata": {},
   "source": [
    "### Part 4, Periodic Boundary Conditions\n",
    "In simulations, we always have a limit of a finite system size. To get rid of some of the boundary effects, we can use periodic boundary conditions. That means we compute distances as if the boundaries wrap around like a donut. The distance calculation we use is called minimum image convention. That means the distance between to particles is the smallest distance between those two particles in infiniate copies of the system. This make more sense if you make the plot in the next cell:"
   ]
  },
  {
   "cell_type": "code",
   "execution_count": null,
   "metadata": {},
   "outputs": [],
   "source": [
    "def plot_configuration_pbc(configuration,box_L):\n",
    "    plt.figure(figsize=(4,4))\n",
    "    plt.axis('equal')\n",
    "    for shift_x in range(-1,2):\n",
    "        for shift_y in range(-1,2):\n",
    "            if shift_x == 0 and shift_y == 0: \n",
    "                #this is for plotting transparency\n",
    "                alpha = 1\n",
    "            else:\n",
    "                alpha = .3\n",
    "            plt.scatter(shift_x*box_L+configuration[:,0],shift_y*box_L+configuration[:,1],alpha=alpha)\n",
    "    \n",
    "    plt.xlim(-box_L,2*box_L)\n",
    "    plt.ylim(-box_L,2*box_L)\n",
    "    \n",
    "plot_configuration_pbc(configuration1,test_box_L)"
   ]
  },
  {
   "cell_type": "markdown",
   "metadata": {},
   "source": [
    "### Write a minimum image distance calculator\n",
    "Replace your old dist= line with one that takes into account that there might be a closer copy of particle j to particle i than the one in the main box. There are several ways to do this, and you can easily google how to do it"
   ]
  },
  {
   "cell_type": "code",
   "execution_count": null,
   "metadata": {},
   "outputs": [],
   "source": [
    "def compute_distances_minimum_image( configuration, box_size ):\n",
    "    distance_list = []\n",
    "    num_particles = configuration.shape[0]\n",
    "    for i in range(num_particles):\n",
    "        for j in range(num_particles):\n",
    "            if i == j: continue\n",
    "            posi = configuration[i]\n",
    "            posj = configuration[j]\n",
    "            # compute the euclidian distance between pos1 and pos2 and call it 'dist' \n",
    "            # there are many ways to do this\n",
    "            # you can certainly look up how to do this online if you can't figure it out right away\n",
    "            \n",
    "            dist = \n",
    "            \n",
    "            distance_list.append(dist)\n",
    "    return np.array(distance_list)\n",
    "\n",
    "distance_list_1_pbc = compute_distances_minimum_image(configuration1, box_size = test_box_L)\n",
    "\n",
    "#now, no two particles should be farther than L*sqrt(2)/2, do yo use why?\n",
    "print(\"Min distance:\",distance_list_1_pbc.min())\n",
    "print(\"Max distance:\",distance_list_1_pbc.max())\n",
    "\n",
    "test_bin_size = .25\n",
    "#set max dist to the box size of this out to L*sqrt(2)/2\n",
    "max_dist = \n",
    "dist_hist_1_pbc, bin_edges_1_pbc = histogram_distances(distance_list_1_pbc,max_dist=max_dist, bin_size=test_bin_size)\n",
    "plot_histogram(dist_hist_1_pbc,bin_edges_1_pbc)\n",
    "plt.axvline(test_box_L/2.,color='black',linestyle='--')"
   ]
  },
  {
   "cell_type": "markdown",
   "metadata": {},
   "source": [
    "You should see something interesting happen in this plot at L/2. Try imagining the 3x3 copies of our system shown above, and see which particles are within a circle of radius r. \n",
    "\n",
    "What you see in the plot above has to do with the difference in area between a circle of radius r and a square of radius r. For this reason, we will only look up until distance L/2. \n",
    "\n",
    "** In the next cell, remake and plot this histogram up to distance L/2 and choose a bin size so that it is relatively smooth**. \n",
    "We will use this data in the next part"
   ]
  },
  {
   "cell_type": "code",
   "execution_count": null,
   "metadata": {},
   "outputs": [],
   "source": [
    "test_bin_size = \n",
    "max_dist = \n",
    "dist_hist_1_pbc, bin_edges_1_pbc = histogram_distances(distance_list_1_pbc,max_dist=max_dist, bin_size=test_bin_size)\n",
    "plot_histogram(dist_hist_1_pbc,bin_edges_1_pbc)"
   ]
  },
  {
   "cell_type": "markdown",
   "metadata": {},
   "source": [
    "## Part 5, computing the radial distribution function\n",
    "the radial distribution function is defined as this histogram divided by the number of things in a shell of radius r around the point. In 2d, this is `2 pi r dr * density`. \n",
    "\n",
    "You also did the distance calculation for *every* particle, which means you essentially have computed 1 histogram for each particle and combined them. *Hence we have to divide by N also.*\n",
    "\n",
    "In the `get_gofr` function, compute the `bin_centers` array and the number density. Finally compute the radial distribution function. Store it as an array called `gofr`, and it will be plotted. \n",
    "\n",
    "Hint: the `dr` should be the spacing in your bin_edges, and the `r`'s should be the bin_centers (see above for how to compute those). \n",
    "\n",
    "Hint: What do you expect for an ideal gas? Is or working correctly?"
   ]
  },
  {
   "cell_type": "code",
   "execution_count": null,
   "metadata": {},
   "outputs": [],
   "source": [
    "def plot_rdf(gofr,bin_centers):\n",
    "    plot(bin_centers,gofr,marker='o')\n",
    "    ylabel(\"g(r)\")\n",
    "    xlabel(\"$r$\")\n",
    "    \n",
    "def get_gofr(hist,bin_edges,num_particles, box_size):\n",
    "    \n",
    "    #compute g(r) here\n",
    "    \n",
    "    \n",
    "    gofr = \n",
    "    return gofr, bin_centers\n",
    "\n",
    "gofr, bin_centers = get_gofr( dist_hist_1_pbc, bin_edges_1_pbc, test_num_particles, test_box_L )\n",
    "    \n",
    "plot_rdf(gofr, bin_centers)"
   ]
  },
  {
   "cell_type": "markdown",
   "metadata": {},
   "source": [
    "## Part 6, averaging the radial distribution function\n",
    "When we do a simulation, we will generate many configurations, and average their radial distribution functions. Let's do that for our ideal gas. In the cell below, generate N random configurations, compute their g(r) using a combination of the functions above. Then average the g(r) together. Increase num_configurations until the error in g(r) is below 5% at every point"
   ]
  },
  {
   "cell_type": "code",
   "execution_count": null,
   "metadata": {},
   "outputs": [],
   "source": [
    "num_configurations = 5\n",
    "gofr_list = []\n",
    "for i in range(num_configurations):\n",
    "    #generate a configuration\n",
    "\n",
    "    #compute pbc distances\n",
    "\n",
    "    #histogram the distances\n",
    "\n",
    "    # get_gofr (fill in the parentheses with your variable names)\n",
    "    gofr, bin_centers = get_gofr(  )\n",
    "    gofr_list.append(gofr)\n",
    "\n",
    "avg_gofr = np.mean(gofr_list, axis=0)\n",
    "plot_rdf(avg_gofr, bin_centers)  \n",
    "axhline(1.0,linestyle='--',color='black')\n",
    "ylim(0.8,1.2)\n"
   ]
  },
  {
   "cell_type": "code",
   "execution_count": null,
   "metadata": {},
   "outputs": [],
   "source": []
  }
 ],
 "metadata": {
  "kernelspec": {
   "display_name": "Python 3",
   "language": "python",
   "name": "python3"
  },
  "language_info": {
   "codemirror_mode": {
    "name": "ipython",
    "version": 3
   },
   "file_extension": ".py",
   "mimetype": "text/x-python",
   "name": "python",
   "nbconvert_exporter": "python",
   "pygments_lexer": "ipython3",
   "version": "3.6.5"
  }
 },
 "nbformat": 4,
 "nbformat_minor": 2
}
