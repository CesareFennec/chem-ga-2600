{
 "cells": [
  {
   "cell_type": "markdown",
   "metadata": {},
   "source": [
    "## Introduction to Molecular Dynamics ##\n",
    "In this notebook you will use a Verlet scheme to simulate the dynamics of a 1-D Harmonic Oscillator and 1-D double well potential"
   ]
  },
  {
   "cell_type": "code",
   "execution_count": null,
   "metadata": {},
   "outputs": [],
   "source": [
    "#setup the notebook\n",
    "%pylab inline\n",
    "import numpy as np"
   ]
  },
  {
   "cell_type": "markdown",
   "metadata": {},
   "source": [
    "## Part 1, set up the potential and plot it  ##\n",
    "This function has to return the energy and force for a 1d harmonic potential. The potential is\n",
    "$U(x) = \\frac{1}{2} k (x - x_0)^2$ and $F = -\\frac{dU(x)}{dx}$"
   ]
  },
  {
   "cell_type": "code",
   "execution_count": null,
   "metadata": {},
   "outputs": [],
   "source": [
    "#this function returns the energy and force on a particle from a harmonic potential\n",
    "def harmonic_oscillator_energy_force(x,k=1,x0=0):\n",
    "    #calculate the energy on force on the right hand side of the equal signs\n",
    "    energy = \n",
    "    force = \n",
    "    return energy, force\n",
    "\n",
    "#this function will plot the energy and force\n",
    "#it is very general since it uses a special python trick of taking arbitrary named arguments (**kwargs) \n",
    "#and passes them on to a specified input function\n",
    "def plot_energy_force(function, xmin=-3,xmax=3,spacing=0.1,**kwargs):\n",
    "    x_points = np.arange(xmin,xmax+spacing,spacing)\n",
    "    energies, forces = function(x_points,**kwargs)\n",
    "    label = 'U(x)'\n",
    "    for arg in kwargs:\n",
    "        label=label+', %s=%s'%(arg,str(kwargs[arg]))\n",
    "    p = plt.plot(x_points,energies,label=label)\n",
    "    plt.plot(x_points,forces,label='',color=p[0].get_color(),linestyle='--')\n",
    "    plt.legend(loc=0)"
   ]
  },
  {
   "cell_type": "code",
   "execution_count": null,
   "metadata": {},
   "outputs": [],
   "source": [
    "#we can plot the energy (solid) and forces (dashed) to see if you did it right.\n",
    "#Is this what you expect???\n",
    "#Play around with changing inputs to the energy, k and x0\n",
    "plot_energy_force(harmonic_oscillator_energy_force,k=1)\n",
    "plot_energy_force(harmonic_oscillator_energy_force,k=5)\n",
    "plot_energy_force(harmonic_oscillator_energy_force,k=10)\n",
    "plot_energy_force(harmonic_oscillator_energy_force,k=5,x0=1)"
   ]
  },
  {
   "cell_type": "markdown",
   "metadata": {},
   "source": [
    "## Part 2, code the exact solutions for the 1-d harmonic oscillator ##\n",
    "When coding a new algorithm, like Molecular Dynamics, it is always good to start with an exactly solvable problem. We want to solve \n",
    "\n",
    "$F = m a = m \\frac{d^2 x}{dt^2}$, where a is the second time derivative of position, and $F = -\\frac{dU(x)}{dx}$. For the harmonic oscillator potential given above, there is an exact solution.\n",
    "\n",
    "It is:\n",
    "\n",
    "$x(t) = A \\cos(\\omega t + \\phi)$\n",
    "\n",
    "$v(t) = \\frac{d x(t)}{d t} = -A \\omega \\sin(\\omega t + \\phi)$\n",
    "\n",
    "where $\\omega=\\sqrt{k/m}$\n",
    "\n",
    "$\\phi$ and $A$ are set by the initial conditions of your system. What we do is choose an initial energy $E$, which we expect to be conserved at all times. We need to know the maximum $x$, which comes when all energy is potential energy, and when $\\cos=1$ (so $x_{max}=A$). Therefore $\\frac{1}{2} k x_{max}^2 = \\frac{1}{2} k A^2 = E$.\n",
    "Hence, $A=\\sqrt{2E/k}$. $\\phi$ depends on where the particle starts, since $x(0) = A \\cos(\\phi)$.\n",
    "\n",
    "** Check for yourself that $\\frac{1}{2} m v_{max}^2 = E$ as well. **\n",
    "\n",
    "Below, you will write this into python code and then it will be plotted. "
   ]
  },
  {
   "cell_type": "code",
   "execution_count": null,
   "metadata": {},
   "outputs": [],
   "source": [
    "#fill in the formulas below. remember, to get trig functions you have to do things like np.cos()\n",
    "\n",
    "def harmonic_oscillator_position_velocity(t, A=1, omega=1, phi=0):\n",
    "    position = \n",
    "    velocity = \n",
    "    \n",
    "    return position, velocity\n",
    "\n",
    "#this function will plot the energy and force for a harmonic oscilator\n",
    "def plot_harmonic_oscillator(t_max=10,dt=0.1,**kwargs):\n",
    "    t_points = np.arange(0,t_max+dt,dt)\n",
    "    position, velocity = harmonic_oscillator_position_velocity(t_points,**kwargs)\n",
    "    label = 'x(t)'\n",
    "    for arg in kwargs:\n",
    "        label=label+', %s=%s'%(arg,str(kwargs[arg]))\n",
    "    p = plt.plot(t_points,position,label=label)\n",
    "    plt.plot(t_points,velocity,label='',color=p[0].get_color(),linestyle='--')\n",
    "    plt.legend(loc='upper right')\n",
    "    \n",
    "#if it is working, you will get a plot with position as a solid line and velocity as dashed\n",
    "plot_harmonic_oscillator()\n"
   ]
  },
  {
   "cell_type": "markdown",
   "metadata": {},
   "source": [
    "### Look at the effect of changing harmonic oscillator parameters ###\n",
    "\n",
    "\n",
    "Notice the effect of changing, $A$, $\\omega$, and $\\phi$.\n",
    "\n",
    "Things to look at and check for yourself:\n",
    "- Position and velocity are out of phase\n",
    "- Changing the amplitude increases both the max speed and position\n",
    "- Changing the frequency changes how often the peaks appear, and also the max velocity\n",
    "- Changing the phase does not change much about the solution, just where the peaks appear"
   ]
  },
  {
   "cell_type": "code",
   "execution_count": null,
   "metadata": {},
   "outputs": [],
   "source": [
    "plot_harmonic_oscillator()\n",
    "plot_harmonic_oscillator(A=2)\n",
    "plt.title('Changing amplitude')\n",
    "plt.figure()\n",
    "\n",
    "plot_harmonic_oscillator()\n",
    "plot_harmonic_oscillator(omega=2)\n",
    "plt.title('Changing frequency')\n",
    "\n",
    "plt.figure()\n",
    "\n",
    "plot_harmonic_oscillator()\n",
    "plot_harmonic_oscillator(phi=1)\n",
    "plt.title('Changing phase')"
   ]
  },
  {
   "cell_type": "markdown",
   "metadata": {},
   "source": [
    "## Part 3, code velocity verlet algorithm ##\n",
    "Now you will code the velocity verlet algorithm. You will know it is correct because you will get curves that overlap with the exact solutions, but at discrete times, with small intervals $dt$.\n",
    "\n",
    "The following equations are alternated to move time forward\n",
    "\n",
    "$x(t+dt) = x(t) + dt \\cdot v(t) + \\frac{dt^2}{2 m} F(t)$\n",
    "\n",
    "$v(t+dt) = v(t) + \\frac{dt}{2m} (F(t+dt) + F(t))$\n",
    "\n",
    "Note that you have to recompute the forces after each position update.\n",
    "\n",
    "** In the following, you can set the mass $m=1$ **\n"
   ]
  },
  {
   "cell_type": "code",
   "execution_count": null,
   "metadata": {},
   "outputs": [],
   "source": [
    "def position_update(x,v,F,dt):\n",
    "    x_new =\n",
    "    return x_new\n",
    "\n",
    "def velocity_update(v,F_new,F_old,dt):\n",
    "    v_new = \n",
    "    return v_new\n",
    "\n",
    "#this function will take the initial energy as an input and run velocity verlet dynamics\n",
    "def velocity_verlet_harmonic_oscillator(potential, max_time, dt, initial_position, initial_velocity,\n",
    "                                        save_frequency=3, **kwargs ):\n",
    "    x = initial_position\n",
    "    v = initial_velocity\n",
    "    t = 0\n",
    "    step_number = 0\n",
    "    positions = []\n",
    "    velocities = []\n",
    "    total_energies = []\n",
    "    save_times = []\n",
    "    \n",
    "    while(t<max_time):\n",
    "        potential_energy, force = potential(x,**kwargs)\n",
    "        if step_number%save_frequency == 0:\n",
    "            e_total = .5*v*v + potential_energy\n",
    "\n",
    "            positions.append(x)\n",
    "            velocities.append(v)\n",
    "            total_energies.append(e_total)\n",
    "            save_times.append(t)\n",
    "        \n",
    "        # update the positions\n",
    "        x = position_update(x,v,force,dt)\n",
    "        # recompute the energy and force\n",
    "        potential_energy2, force2 = potential(x,**kwargs)\n",
    "        # update the velocity\n",
    "        v = velocity_update(v,force2,force,dt)\n",
    "                \n",
    "        t = t+dt\n",
    "        step_number = step_number + 1\n",
    "    \n",
    "    return save_times, positions, velocities, total_energies\n",
    "       \n",
    "    "
   ]
  },
  {
   "cell_type": "markdown",
   "metadata": {},
   "source": [
    "### Now we will run our MD simulation of a harmonic oscillator ###\n",
    "You can choose the initial energy and spring constant that you want and see how the results look. If it's working, then the energy should be conserved to much better than 1% and your simulation data (circles) should fit on the exact solution (lines)"
   ]
  },
  {
   "cell_type": "code",
   "execution_count": null,
   "metadata": {},
   "outputs": [],
   "source": [
    "initial_energy = \n",
    "my_k = \n",
    "\n",
    "my_max_time = 10\n",
    "\n",
    "#set the initial conditions. this is easiest if you set x=x_max and v=0 based on the input energy E. \n",
    "# Otherwise you will have to include a phase factor to show that you got the exact solution\n",
    "\n",
    "initial_position = \n",
    "initial_velocity = 0\n",
    "\n",
    "#let's set a good timestep based on dt = tau/100 where tau=2 pi/ omega\n",
    "my_omega = np.sqrt(my_k)\n",
    "tau = 2*np.pi/my_omega\n",
    "my_dt = tau/100.\n",
    "\n",
    "times, positions, velocities, total_energies = velocity_verlet_harmonic_oscillator(harmonic_oscillator_energy_force, \n",
    "                                                                            my_max_time, my_dt, \\\n",
    "                                                                            initial_position, initial_velocity,\\\n",
    "                                                                             k=my_k)\n",
    "\n",
    "# What is the A value prefactor for the harmonic oscillator? See equations above\n",
    "my_A = np.sqrt(initial_energy*2/my_k)\n",
    "\n",
    "plt.plot(times,positions,marker='o',label='sim. position',linestyle='')\n",
    "plt.plot(times,velocities,marker='s',label='sim. velocity',linestyle='')\n",
    "plot_harmonic_oscillator(t_max=my_max_time,omega=my_omega, A=my_A)\n",
    "\n",
    "xlabel('time')\n",
    "legend(loc='upper center')\n",
    "\n",
    "plt.figure()\n",
    "plt.plot(times,total_energies,marker='o',linestyle='',label='Simulated E')\n",
    "plt.axhline(initial_energy,color='black',label='Exact')\n",
    "plt.ylim(0.95*initial_energy,1.05*initial_energy)\n",
    "xlabel('time')\n",
    "ylabel(\"Total Energy\")\n",
    "legend()\n",
    "\n"
   ]
  },
  {
   "cell_type": "markdown",
   "metadata": {},
   "source": [
    "### Histogram Position and Velocity ###\n",
    "What is the probability of seeing a given position or velocity? \n",
    "Do the histograms look like what you expect? "
   ]
  },
  {
   "cell_type": "code",
   "execution_count": null,
   "metadata": {},
   "outputs": [],
   "source": [
    "def bin_centers(bin_edges):\n",
    "    return (bin_edges[1:]+bin_edges[:-1])/2.\n",
    "\n",
    "#to get a good histogram, we need to run a lot longer than before\n",
    "my_max_time = 1000\n",
    "\n",
    "times, positions, velocities, total_energies = velocity_verlet_harmonic_oscillator(harmonic_oscillator_energy_force, \n",
    "                                                                            my_max_time, my_dt, \\\n",
    "                                                                            initial_position, initial_velocity,\\\n",
    "                                                                             k=my_k)\n",
    "\n",
    "\n",
    "dist_hist, dist_bin_edges = np.histogram(positions,bins=20,density=True)\n",
    "vel_hist, vel_bin_edges = np.histogram(velocities,bins=20,density=True)\n",
    "\n",
    "\n",
    "plot(bin_centers(dist_bin_edges), dist_hist,marker='o',label='P(x)')\n",
    "plot(bin_centers(vel_bin_edges), vel_hist,marker='s',label='P(v)')\n",
    "legend(loc='upper center')"
   ]
  },
  {
   "cell_type": "markdown",
   "metadata": {},
   "source": [
    "## Part 4, simulate double well potential ##\n",
    "For the harmonic oscillator, we knew the exact solution. Let's do another similar problem for practice.\n",
    "\n",
    "One useful model potential is the double-well:\n",
    "\n",
    "$U(x) = \\frac{k}{4} (x-a)^2 (x+a)^2$\n",
    "\n",
    "This potential has a minimum at $x=a$ and $x=-a$. It also has a barrier at $x=0$. \n",
    "\n",
    "** What is the height of this barrier? **\n",
    "\n",
    "Fill in the potential and force functions below and it will be plotted. \n",
    "\n",
    "Is the height of the barrier what you predicted? Try changing $k$ and $a$ to see the effect."
   ]
  },
  {
   "cell_type": "code",
   "execution_count": null,
   "metadata": {},
   "outputs": [],
   "source": [
    "#this function returns the energy and force on a particle from a double well\n",
    "def double_well_energy_force(x,k,a):\n",
    "    #calculate the energy on force on the right hand side of the equal signs\n",
    "    energy = \n",
    "    force = \n",
    "    return energy, force\n",
    "\n",
    "plot_energy_force(double_well_energy_force, xmin=-4,xmax=+4, k=1, a=2)\n",
    "axhline(0,linestyle='--',color='black')\n",
    "axvline(0,linestyle='--',color='black')\n",
    "ylim(-10,10)"
   ]
  },
  {
   "cell_type": "markdown",
   "metadata": {},
   "source": [
    "### Run velocity verlet dynamics on the double well ###\n",
    "Set your $k$ and $a$ values. Pick an initial position, velocity, and timestep. Then run the dynamics. \n",
    "\n",
    "** Try changing these parameters. What is your initial energy? What happens if the initial energy is less than the barrier height? **"
   ]
  },
  {
   "cell_type": "code",
   "execution_count": null,
   "metadata": {},
   "outputs": [],
   "source": [
    "# make up an initial position and velocity\n",
    "my_k = \n",
    "my_a = \n",
    "my_initial_position = \n",
    "my_initial_velocity = \n",
    "\n",
    "my_dt = 0.001\n",
    "my_max_time = 10\n",
    "\n",
    "times, positions, velocities, total_energies = velocity_verlet_harmonic_oscillator(double_well_energy_force, \n",
    "                                                                            my_max_time, my_dt, \\\n",
    "                                                                            my_initial_position, my_initial_velocity,\\\n",
    "                                                                             k=my_k, a=my_a)\n",
    "\n",
    "plt.plot(times,positions,marker='o',label='position',linestyle='')\n",
    "plt.plot(times,velocities,marker='s',label='velocity',linestyle='')\n",
    "\n",
    "xlabel('time')\n",
    "legend(loc='upper center')\n",
    "\n",
    "plt.figure()\n",
    "initial_energy = total_energies[0]\n",
    "plt.plot(times,total_energies,marker='o',linestyle='',label='Simulated E')\n",
    "plt.axhline(initial_energy,color='black',label='Exact')\n",
    "plt.ylim(0.95*initial_energy,1.05*initial_energy)\n",
    "xlabel('time')\n",
    "ylabel(\"Total Energy\")\n",
    "legend()"
   ]
  },
  {
   "cell_type": "markdown",
   "metadata": {},
   "source": [
    "### Histogramming the results ###\n",
    "We can also do the histogramming for this case."
   ]
  },
  {
   "cell_type": "code",
   "execution_count": null,
   "metadata": {},
   "outputs": [],
   "source": [
    "#to get a good histogram, we need to run a lot longer than before\n",
    "my_max_time = 1000\n",
    "\n",
    "times, positions, velocities, total_energies = velocity_verlet_harmonic_oscillator(double_well_energy_force, \n",
    "                                                                            my_max_time, my_dt, \\\n",
    "                                                                            my_initial_position, my_initial_velocity,\\\n",
    "                                                                             k=my_k, a=my_a)\n",
    "\n",
    "\n",
    "dist_hist, dist_bin_edges = np.histogram(positions,bins=25,density=True)\n",
    "vel_hist, vel_bin_edges = np.histogram(velocities,bins=25,density=True)\n",
    "\n",
    "\n",
    "plot(bin_centers(dist_bin_edges), dist_hist,marker='o',label='P(x)')\n",
    "plot(bin_centers(vel_bin_edges), vel_hist,marker='s',label='P(v)')\n",
    "legend(loc='upper center')"
   ]
  }
 ],
 "metadata": {
  "kernelspec": {
   "display_name": "Python 3",
   "language": "python",
   "name": "python3"
  },
  "language_info": {
   "codemirror_mode": {
    "name": "ipython",
    "version": 3
   },
   "file_extension": ".py",
   "mimetype": "text/x-python",
   "name": "python",
   "nbconvert_exporter": "python",
   "pygments_lexer": "ipython3",
   "version": "3.6.5"
  }
 },
 "nbformat": 4,
 "nbformat_minor": 2
}
