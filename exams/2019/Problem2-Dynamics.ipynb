{
 "cells": [
  {
   "cell_type": "markdown",
   "metadata": {},
   "source": [
    "# Part 2  - Dynamics\n",
    "\n",
    "### In these exercises, you will analyze a real molecular dynamics trajectory of 125 water molecules at $T$=300K\n",
    "\n",
    "# Setup\n",
    "### Run the following cell to setup the plotting libraries and to read in the data trajectories\n",
    "\n",
    "#### The get_data function will read in two trajectories, one of positions and one of velocities. All data is the \"data/\" folder, as well as the lammps inputs used to create it.\n",
    "#### xyz is a numpy array containing the positions of the atoms vs time with dimensions (N_frames, N_atoms, 3) [ Technical Note: I have saved this data such that the molecules do not get wrapped back into the periodic box. This makes it easier to compute diffusion properties as below. ]. *These positions have units of angstroms*\n",
    "\n",
    "#### vxyz is a numpy array containing the velocities of the atoms vs time with dimensions (N_frames, N_atoms, 3). *These velocities are in angstroms/ps*\n",
    "\n",
    "#### x_times are the times corresponding to each frame in the xyz array, and v_times are the times corresponding to the frames in the velocity array. *These times are in picoseconds*\n",
    "\n",
    "\n",
    "#### Within the position and velocity arrays, each molecule is contiguous. The order of atoms is Oxygen, Hydrogen, Hydrogen. So water1 has indices (0,1,2), water2 as indices (3,4,5), etc..."
   ]
  },
  {
   "cell_type": "code",
   "execution_count": 1,
   "metadata": {},
   "outputs": [
    {
     "name": "stdout",
     "output_type": "stream",
     "text": [
      "Populating the interactive namespace from numpy and matplotlib\n"
     ]
    }
   ],
   "source": [
    "%pylab inline\n",
    "from utilities import get_data\n",
    "\n",
    "xyz, vxyz, x_times, v_times = get_data()"
   ]
  },
  {
   "cell_type": "code",
   "execution_count": 2,
   "metadata": {},
   "outputs": [
    {
     "name": "stdout",
     "output_type": "stream",
     "text": [
      "Shape of position data:  (2001, 375, 3) (2001,)\n",
      "Shape of velocity data:  (501, 375, 3) (501,)\n"
     ]
    }
   ],
   "source": [
    "print(\"Shape of position data: \",xyz.shape, x_times.shape)\n",
    "print(\"Shape of velocity data: \",vxyz.shape, v_times.shape)"
   ]
  },
  {
   "cell_type": "markdown",
   "metadata": {},
   "source": [
    "# Problem 2.1 - Getting oriented (20 points)\n",
    "Compute and answer the following questions:\n",
    "* What is the length of time in real units for the position data, and what is the length of time for the velocity data? \n",
    "* What is the spacing between frames in each case?\n",
    "* What are the starting x,y, and z positions of the atoms in the first molecule?\n",
    "* What are the starting velocities, vx,vy,vz, of the atoms in the first molecule?"
   ]
  },
  {
   "cell_type": "markdown",
   "metadata": {},
   "source": [
    "# Problem 2.2 - Diffusion and mean-squared displacement\n",
    "## In this problem we will compute the mean squared displacement of water and from that extract the diffusion constant\n",
    "## As a simplification, we can do it for the oxygen atoms, although you could do it for the center of mass of each molcule"
   ]
  },
  {
   "cell_type": "markdown",
   "metadata": {},
   "source": [
    "# Problem 2.2.1 - Simple MSD for oxygen (30 points)\n",
    "## In this problem, compute we will plot the mean squared displacement of oxygen atoms the \"simple way\"\n",
    "### 1) First, get the coordinates of the oxygen atoms at every time\n",
    "### 2) Then, compute the squared displacement compared to *time 0* only for each atom $\\delta\\vec{r_i}(t)\\cdot\\delta\\vec{r_i}(t)$, where for each atom displacement $\\delta \\vec{r}_i(t) = \\vec{r_i}(t)-\\vec{r_i}(0)$,  and then take the average over the 125 atoms\n",
    "### With numpy arrays you can do this pretty much all in one line, or you can do it one step at a time\n",
    "### 3) Plot this MSD versus time, it should look kind of noisy, like the following\n",
    "![RoughMSD](example_figures/msd_rough.png)\n"
   ]
  },
  {
   "cell_type": "markdown",
   "metadata": {},
   "source": [
    "# Problem 2.2.2 - Beter MSD computation for oxygen (50 points)\n",
    "## In this problem, compute we will plot the mean squared displacement of oxygen atoms the \"real way\". You can do this however you want, but one procedure would be:\n",
    "### 1) Compute the squared displacement compared to every possible starting time, *time s* for each atom, so for each atom displacement $\\delta \\vec{r}_i(t) = \\vec{r_i}(t+s)-\\vec{r_i}(s)$,  and then take the average over starting times $s$\n",
    "### 2) Then you can average over the 125 atoms. You can also compute a standard deviation over the 125 atoms\n",
    "### 3) Plot this MSD versus time on top of your previous plot, and use error bars to show the standard deviations, it should look kind of noisy, like the following\n",
    "![MSDComparison](example_figures/msd_comparison.png)\n",
    "### 4) As best you can, explain the size of the error bars versus time\n"
   ]
  },
  {
   "cell_type": "markdown",
   "metadata": {},
   "source": [
    "# Problem 2.2.3 - Diffusion constant (30 points)\n",
    "### 1) Recall the theoretical relationship between MSD(t) and the Diffusion constant.\n",
    "### 2) Compute the diffusion constant by fitting the MSD data you computed to this formula, and make sure to give proper units. \n",
    "### You can search \"fitting in python\" and things like that to find out how to best to do it. I used the library function \"sklearn.linear_model.LinearRegression\" but there are many possible ways to do it\n",
    "### If you want to be sophisticated, you can use the standard deviation or other error metrics (jackknife, bootstrap) in your fit\n",
    "\n",
    "### ** If you cannot get the previous part to work, you can read in my MSD values and still do this part, by running the following command: msd = np.load(\"example_figures/msd_data.npy\")"
   ]
  },
  {
   "cell_type": "markdown",
   "metadata": {},
   "source": [
    "# Problem 2.2.4 - Velocity distribution (30 points)\n",
    "## 1) Compute the distribution of velocities for \"O\" and \"H\" atoms separately in either x,y or z. You can check whether they are the same in each dimension if you want.\n",
    "## 2) Plot these on top of eachother, it should look something like the following\n",
    "![VDist](example_figures/velocity_distribution.png)\n",
    "\n",
    "### 3) What is the formula that should correspond to each curve? \n",
    "### 4) Compute the standard deviation of the velocity data, and comprae to the ideal value $\\sqrt{k_B T/m}$. How accurately is this satisfied by the simulation? Don't forget to be careful about which units you're using!"
   ]
  },
  {
   "cell_type": "markdown",
   "metadata": {},
   "source": [
    "# Problem 2.2.5 - Velocity-velocity auto correlation function (50 points)\n",
    "### 1) Compute the velocity-velocity autocorrelation function $\\langle \\vec{v}(t)\\cdot \\vec{v}(0)\\rangle$. This should be a very similar function to the \"correct\" MSD calculation above, averaging over all start times and atoms\n",
    "### 2) Plot this function versus time. Is there any interesting feature in this curve that you maybe didn't expect? [Hint: look at point (a) of the abstract for this paper, which is a very famous study related to the first MD simulations of liquids. https://aip.scitation.org/doi/abs/10.1063/1.1727719 ] What do you think the reason for this feature might be? \n",
    "### 3) Using the appropriate formula, determine the diffusion constant from this correlation function by numerical integration. I used the np.trapz function to do the integration, but you can use whatever method you want. Is this value close to what you got before?"
   ]
  },
  {
   "cell_type": "markdown",
   "metadata": {},
   "source": [
    "# Problem 2.2.6 (Bonus) - Dipole dipole correlatoin function (50 points)\n",
    "## Compute and plot the dipole-dipole correlation function, as from your final homework. $\\langle \\vec{\\mu}(t)\\cdot \\vec{\\mu}(0)\\rangle$. \n",
    "### First compute the dipole of every water molcule at each time\n",
    "### Then, you should be able to use the same function as your velocity-velocity correlation function, but first This should be a very similar function to the \"correct\" MSD calculation above, averaging over all start times and atoms\n",
    "### Does this function decay as we predicted theoretically for a rigid molecule in the homework? How would you get the rotational 'friction' from this plot?"
   ]
  },
  {
   "cell_type": "code",
   "execution_count": null,
   "metadata": {},
   "outputs": [],
   "source": []
  }
 ],
 "metadata": {
  "kernelspec": {
   "display_name": "Python 3",
   "language": "python",
   "name": "python3"
  },
  "language_info": {
   "codemirror_mode": {
    "name": "ipython",
    "version": 3
   },
   "file_extension": ".py",
   "mimetype": "text/x-python",
   "name": "python",
   "nbconvert_exporter": "python",
   "pygments_lexer": "ipython3",
   "version": "3.6.5"
  }
 },
 "nbformat": 4,
 "nbformat_minor": 2
}
