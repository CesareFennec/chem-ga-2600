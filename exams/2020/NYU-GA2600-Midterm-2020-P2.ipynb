{
 "cells": [
  {
   "cell_type": "code",
   "execution_count": 14,
   "metadata": {},
   "outputs": [
    {
     "name": "stdout",
     "output_type": "stream",
     "text": [
      "Populating the interactive namespace from numpy and matplotlib\n"
     ]
    }
   ],
   "source": [
    "%pylab inline\n",
    "import matplotlib.pylab as plt"
   ]
  },
  {
   "cell_type": "markdown",
   "metadata": {},
   "source": [
    "# Problem 2 - Diffusion in a simple potential from Monte Carlo\n",
    "\n",
    "### In the last problem, we studied a random walk on a lattice, where every position was equally likely. Here we will see what happens for a particle undering a random walk in a test potential\n",
    "\n",
    "The test potential we will study is a Harmonic oscillator in 1 dimension, \n",
    "\n",
    "$$U(x) = \\frac{1}{2} k x^2$$\n",
    "\n",
    "1. Write a function that returns the Harmonic energy given the position (template below). If you want to be fancy, you can have this whole notebook work for arbitrary dimensions and test things out in 2 or higher dimensions also.\n",
    "\n",
    "2. Write a function that performs Metropolis Monte Carlo sampling on this harmonic potential at inverse temperature $\\beta=1$ (so we are just working in energy units where $k_B T=1$). That means that it follows the following algorithm for nsteps:\n",
    "\n",
    "* Choose a new position equal to the current position plus a random displacement of maximum size $\\delta$, in otherwords \n",
    "$x_{new} = x_{current} + \\delta \\xi$, where $\\xi$ is a random number in (-1,1)\n",
    "* Compute the change in energy, $\\delta U = U(x_{new})-U(x_{current})$\n",
    "* Generate a random number $r$ in (0,1) and:\n",
    "  - If $r<\\min(1,e^{-\\beta \\Delta U})$:\n",
    "     - add $x_{new}$ to the trajectory and make it the current position\n",
    "  - Else\n",
    "     - add $x_{old}$ to the trajectory and make it the current position\n",
    "     \n",
    "*During this algorithm*, keep track of and print out what fraction of moves are rejected. Adjust your maximum displacement $\\delta$ until the acceptance rate is between 0.3-0.5. This will be the most efficient.\n",
    "\n",
    "It may be helpful to keep track of energy as a function of time, for debugging and also to understand what is going on.\n",
    "\n",
    "3. Run several simulations starting at $t=0$ and make a plot of position versus time. When the potential $U=0$, we saw that the variance of positions at time $t$ was proportional to $t$, should that be true here? (make sure each simulation has a different random seed).\n",
    "\n",
    "4. For some value of $k$, make a histogram of the position of the particles at different times $\\tau$, where all simulations start at position zero (a delta function). You should see that the histograms _converge_ to a Gaussian distribution. \n",
    "\n",
    "5. Plot the historams in position at the final time for several different $k$, how does the variance in final position depend on $k$? Does this make sense from the Boltzmann distribution? (if you have time, you can plot the ideal distribution on top to check).\n",
    "\n",
    "If you want, you can also histogram the energies. Does this histogram look like what you expect?"
   ]
  },
  {
   "cell_type": "code",
   "execution_count": 11,
   "metadata": {},
   "outputs": [],
   "source": [
    "def harmonic_energy(x, k):\n",
    "    import numpy as np\n",
    "    #your code here\n",
    "    return 0.5*k*np.sum(x*x)"
   ]
  },
  {
   "cell_type": "code",
   "execution_count": null,
   "metadata": {},
   "outputs": [],
   "source": []
  }
 ],
 "metadata": {
  "kernelspec": {
   "display_name": "Python 3",
   "language": "python",
   "name": "python3"
  },
  "language_info": {
   "codemirror_mode": {
    "name": "ipython",
    "version": 3
   },
   "file_extension": ".py",
   "mimetype": "text/x-python",
   "name": "python",
   "nbconvert_exporter": "python",
   "pygments_lexer": "ipython3",
   "version": "3.8.5"
  }
 },
 "nbformat": 4,
 "nbformat_minor": 4
}
