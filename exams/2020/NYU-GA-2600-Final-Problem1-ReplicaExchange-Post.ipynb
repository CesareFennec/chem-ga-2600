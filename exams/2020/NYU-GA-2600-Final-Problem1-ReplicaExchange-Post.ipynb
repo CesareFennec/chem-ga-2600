{
 "cells": [
  {
   "cell_type": "markdown",
   "metadata": {},
   "source": [
    "# Part 1  - Replica Exchange Parallel Tempering\n",
    "\n",
    "### In class we derived the equations for Parallel Tempering, i.e. we run several simulations at different temperatures and exchange configurations between them in order to get over energy barriers. Here we will try it out for a simple 2 well system. Normally, to be useful these simulations would have to run _in parallel_, however it is not a requirement, and here we will run each 'replica' separately.\n",
    "\n"
   ]
  },
  {
   "cell_type": "markdown",
   "metadata": {},
   "source": [
    "### Run the next cell to define the Langevin Dynamics simulation function"
   ]
  },
  {
   "cell_type": "code",
   "execution_count": null,
   "metadata": {},
   "outputs": [],
   "source": [
    "%pylab inline\n",
    "\n",
    "#this function returns the potential energy and force\n",
    "def double_well(x,x0=2,A=0.7,B=0.0):\n",
    "    potential = A*((x-x0)**2)*((x+x0)**2) - B*x\n",
    "    potential = potential #- np.min(potential)\n",
    "    force = -( 4 * A*(x**3) - 4*A*(x0**2)*x - B)\n",
    "    #hessian = 12 *A * (x**2) - 4*A*(x0**2)\n",
    "    \n",
    "    return potential, force\n",
    "\n",
    "#this is step A\n",
    "def position_update(x,v,dt):\n",
    "    x_new = x + v*dt/2.\n",
    "    return x_new\n",
    "\n",
    "#this is step B\n",
    "def velocity_update(v,F,dt):\n",
    "    v_new = v + F*dt/2.\n",
    "    return v_new\n",
    "\n",
    "def random_velocity_update(v,gamma,kBT,dt):\n",
    "    R = np.random.normal(size=np.size(v))\n",
    "    c1 = np.exp(-gamma*dt)\n",
    "    c2 = np.sqrt(1-c1*c1)*np.sqrt(kBT)\n",
    "    v_new = c1*v + R*c2\n",
    "    return v_new\n",
    "\n",
    "def baoab(potential, max_time, dt, gamma, kBT, initial_position, initial_velocity,\n",
    "                                        save_frequency=5, **kwargs ):\n",
    "    x = initial_position\n",
    "    v = initial_velocity\n",
    "    t = 0\n",
    "    step_number = 0\n",
    "    positions = []\n",
    "    velocities = []\n",
    "    total_energies = []\n",
    "    potential_energies = []\n",
    "    save_times = []\n",
    "    \n",
    "    while(t<max_time):\n",
    "        \n",
    "        # B\n",
    "        potential_energy, force = potential(x,**kwargs)\n",
    "        v = velocity_update(v,force,dt)\n",
    "        \n",
    "        #A\n",
    "        x = position_update(x,v,dt)\n",
    "\n",
    "        #O\n",
    "        v = random_velocity_update(v,gamma,kBT,dt)\n",
    "        \n",
    "        #A\n",
    "        x = position_update(x,v,dt)\n",
    "        \n",
    "        # B\n",
    "        potential_energy, force = potential(x,**kwargs)\n",
    "        v = velocity_update(v,force,dt)\n",
    "        \n",
    "        if step_number%save_frequency == 0 and step_number>0:\n",
    "            e_total = .5*v*v + potential_energy\n",
    "\n",
    "            positions.append(x)\n",
    "            velocities.append(v)\n",
    "            total_energies.append(e_total)\n",
    "            potential_energies.append(potential_energy)\n",
    "            save_times.append(t)\n",
    "        \n",
    "        t = t+dt\n",
    "        step_number = step_number + 1\n",
    "    \n",
    "    return save_times, positions, velocities, total_energies, potential_energies  \n",
    "\n"
   ]
  },
  {
   "cell_type": "markdown",
   "metadata": {},
   "source": [
    "### Play around with the parameters A, B, and x_0 to see how they effect the potential we will be simulating with. \n",
    "- Default parameters set above which make sense for this exercise are $A=0.7$, $B=0.0$, $x_0=2$, so those have been set as defaults above\n",
    "\n",
    "### Question 1: Explain in your own words how these parameters change the potential:\n",
    "\n",
    "*your answer to question 1 here!*"
   ]
  },
  {
   "cell_type": "code",
   "execution_count": null,
   "metadata": {},
   "outputs": [],
   "source": [
    "my_A = 0.7\n",
    "my_B = 0.0\n",
    "my_x0 = 2.0\n",
    "pmax = my_A*(my_x0**4)\n",
    "xpoints = np.arange(-4*my_x0,4*my_x0,0.1)\n",
    "\n",
    "potential, force = double_well(xpoints, my_x0, my_A, my_B)\n",
    "\n",
    "plt.plot(xpoints,potential-potential.min(),label=\"$U(x)$\",c='red')\n",
    "plt.plot(xpoints,force,label=\"$U'(x)$\",c='blue')\n",
    "\n",
    "plt.axhline(0,ls='--',c='black')\n",
    "\n",
    "plt.ylim(-2*pmax,2*pmax)\n",
    "plt.xlabel(\"$x$\")\n",
    "plt.legend(loc=0)"
   ]
  },
  {
   "cell_type": "markdown",
   "metadata": {},
   "source": [
    "### The next cell gives an example running the system at one temperature\n",
    "\n",
    "### Question 2: \n",
    "Run the simulation with different parameters, but especially changing the temperature. I found good results using $\\gamma=1$ and $dt=0.1$.\n",
    "\n",
    "a) Write a function to compute the ideal distribution for position for this system and plot it. $P_{ideal}(x) = e^{-\\beta U(x)}/Z$, $Z=\\int dx e^{-\\beta U(X)}$. You can use something like [trapz](https://numpy.org/doc/stable/reference/generated/numpy.trapz.html) to integrate/normalize this histogram or write your own function to compute $\\int dx f(x) \\approx \\sum_{i=1}^N f(x_i) \\Delta x$.\n",
    "\n",
    "b) Histogram and plot the histogram of position from the `positions` output by Langevin dynamics\n",
    "\n",
    "c) Explain in your own words the effect of changing temperature (my_kBT)\n",
    "\n",
    "d) Use this information to answer the question after, is sampling at my_kBT=1.0 ergodic (does it sample all accessible states of the system?) Why or why not?"
   ]
  },
  {
   "cell_type": "code",
   "execution_count": null,
   "metadata": {},
   "outputs": [],
   "source": [
    "my_kBT = 1.0\n",
    "\n",
    "my_gamma=1.0\n",
    "my_dt=0.1\n",
    "\n",
    "initial_position = -2\n",
    "initial_velocity = 0.0\n",
    "my_max_time = 500\n",
    "\n",
    "times, positions, velocities, total_energies, potential_energies = baoab(double_well, \\\n",
    "                                                                            my_max_time, my_dt, my_gamma, my_kBT, \\\n",
    "                                                                            initial_position, initial_velocity,save_frequency=5)\n",
    "\n",
    "plt.plot(times,positions,marker='',label='position',linestyle='-')\n",
    "\n",
    "xlabel('time')\n",
    "legend(loc='upper center')\n",
    "\n",
    "plt.figure()\n",
    "plt.plot(times,potential_energies,marker='o',linestyle='',label='Simulated E')\n",
    "xlabel('time')\n",
    "ylabel(\"Potential Energy\")\n",
    "legend()"
   ]
  },
  {
   "cell_type": "markdown",
   "metadata": {},
   "source": [
    "Note, it is possible to run multiple simulations at once the way the Langevin dynamics code is written, but you don't have to use that feature since it is more complicated. Example in next cell"
   ]
  },
  {
   "cell_type": "code",
   "execution_count": null,
   "metadata": {},
   "outputs": [],
   "source": [
    "my_kBT = [1.0,1.0]\n",
    "\n",
    "my_gamma=1.0\n",
    "my_dt=0.1\n",
    "\n",
    "initial_position = np.array([-2,2])\n",
    "initial_velocity = np.array([0.0,0.0])\n",
    "my_max_time = 500\n",
    "\n",
    "times, positions, velocities, total_energies, potential_energies = baoab(double_well, \\\n",
    "                                                                            my_max_time, my_dt, my_gamma, my_kBT, \\\n",
    "                                                                            initial_position, initial_velocity,save_frequency=5)\n",
    "\n",
    "positions = np.array(positions)\n",
    "plt.plot(times,positions[:,0],label=\"Start x=-2\")\n",
    "plt.plot(times,positions[:,1],label=\"Start x=2\")\n",
    "\n",
    "\n",
    "xlabel('time')\n",
    "legend(loc=0)"
   ]
  },
  {
   "cell_type": "markdown",
   "metadata": {},
   "source": [
    "#### Your answer to question 2 here"
   ]
  },
  {
   "cell_type": "markdown",
   "metadata": {},
   "source": [
    "# Problem 3: Parallel Tempering\n",
    "\n",
    "- Now write a code that performs parallel tempering using the algorithm below for some set of temperatures \n",
    "- During the algorithm, compute and print the acceptance ratio for swapping each replica\n",
    "- If you can, keep track of the temperature of each replica, and plot it as a function of time (example below)\n",
    "- At the end, plot a histogram of positions from samples at each temperature and compare to the exact distribution; my results for the above double well paramters and temperatures $k_B T=\\{1,3,6,9\\}$ are below\n",
    "- Tips:\n",
    " - In my simulations, I first equilibrated for $t=100$ at teach temperature before starting the replica exchange\n",
    " - I ended up attempting an exchange every 50 MD steps (with dt = 0.1)\n",
    " - I ran until I had made 10000 swap attempts\n",
    " - Compute statistics from samples at a particular temperature, not in a particular replica, which moves up and down. It's easier to generate $N$ trajectories at the $N$ temperatures from the first place during the algorithm, but you will have to figure out the best way to do that part \n",
    " - If you get memory errors, try increasing `save_frequency` (i.e. save configurations and energies less often), it probably doesn't have to be too small\n",
    " - For my results, the code only took a few minutes to run. Still, try testing by running much shorter simulations that only take a few seconds, then run longer to get final results\n",
    "\n",
    "\n",
    "## Algorithm\n",
    "\n",
    "- Make $N$ copies of of your system.\n",
    "- For system $i$, run Langevin dynamics at temperature $T_i$ for $n$ steps\n",
    "- Pick a random integer $j$ from 0 to $N-2$, and decide whether to swap replicas $j$ and $j+1$ using the critereon $P_{accept} = \\min(1,\\exp(\\Delta U \\Delta (1/T)))$ where $\\Delta U=U_{j+1} - U_j$ and $\\Delta (1/T) = \\frac{1}{T_{j+1}} - \\frac{1}{T_j}$. (See notes from class)\n",
    "- If accepted, swap the two new configurations (positions and velocities) for that time, otherwise do nothing"
   ]
  },
  {
   "cell_type": "markdown",
   "metadata": {},
   "source": [
    "**Exchange example**\n",
    "<img src=\"figures/2020/exchange_plot_example.jpg\" width=300px height=300px />\n",
    "**Distribution example**\n",
    "<img src=\"figures/2020/replica_exchange_probability_comparison.jpg\" width=300px height=300px />"
   ]
  },
  {
   "cell_type": "code",
   "execution_count": null,
   "metadata": {},
   "outputs": [],
   "source": []
  }
 ],
 "metadata": {
  "kernelspec": {
   "display_name": "Python 3",
   "language": "python",
   "name": "python3"
  },
  "language_info": {
   "codemirror_mode": {
    "name": "ipython",
    "version": 3
   },
   "file_extension": ".py",
   "mimetype": "text/x-python",
   "name": "python",
   "nbconvert_exporter": "python",
   "pygments_lexer": "ipython3",
   "version": "3.8.5"
  }
 },
 "nbformat": 4,
 "nbformat_minor": 2
}
