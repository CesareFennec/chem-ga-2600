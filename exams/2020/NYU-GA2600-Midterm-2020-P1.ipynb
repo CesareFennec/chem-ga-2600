{
 "cells": [
  {
   "cell_type": "code",
   "execution_count": 1,
   "metadata": {},
   "outputs": [
    {
     "name": "stdout",
     "output_type": "stream",
     "text": [
      "Populating the interactive namespace from numpy and matplotlib\n"
     ]
    }
   ],
   "source": [
    "%pylab inline\n",
    "import matplotlib.pylab as plt"
   ]
  },
  {
   "cell_type": "markdown",
   "metadata": {},
   "source": [
    "# Problem 1 - Diffusion on a lattice in $d$ dimensions\n",
    "\n",
    "### Before we studied a random walk on a 1-dimensional lattice. Here, we will generalize it to higher dimensions\n",
    "\n",
    "1. Write a function (template below) that performs a random walk on a lattice (with spacing $a=1$ for simplicity) in $d$ dimensions. It should work for at least d=1,2,3 but perhaps works for any number of dimensions. \n",
    "\n",
    "2. For the two dimensional case, plot a trajectory in x and y, showing that it looks a lot like experimental trajectories of Brownian motion, such as this one from Wikipedia (you will have to do at least a few hundred steps):\n",
    "<img src=\"https://upload.wikimedia.org/wikipedia/commons/thumb/4/44/PerrinPlot2.svg/2560px-PerrinPlot2.svg.png\" alt=\"brownian\" width=\"400\"/>\n",
    "\n",
    "3. By averaging the results of many trajectories (different random seeds), show that the mean squared displacement is proportional to $d$ t at long times. \n",
    "\n",
    "If possible, extract the Diffusion constant $D$, by fitting the relationship $\\langle \\delta x(t)^2 \\rangle = 2 d D t$, where $t$ is the number of steps in the random walk. To do this, you should be able to use one of a variety pre-built python module that can do linear regression. "
   ]
  },
  {
   "cell_type": "code",
   "execution_count": 2,
   "metadata": {},
   "outputs": [],
   "source": [
    "def random_walk(nsteps, d, seed=1):\n",
    "    import numpy as np\n",
    "    np.random.seed(seed)\n",
    "    trajectory = [] #you make a list of points visited by the walker and return it. the first point should be (0,0,...,0)\n",
    "    #Your code here\n",
    "    return trajectory"
   ]
  }
 ],
 "metadata": {
  "kernelspec": {
   "display_name": "Python 3",
   "language": "python",
   "name": "python3"
  },
  "language_info": {
   "codemirror_mode": {
    "name": "ipython",
    "version": 3
   },
   "file_extension": ".py",
   "mimetype": "text/x-python",
   "name": "python",
   "nbconvert_exporter": "python",
   "pygments_lexer": "ipython3",
   "version": "3.8.5"
  }
 },
 "nbformat": 4,
 "nbformat_minor": 4
}
