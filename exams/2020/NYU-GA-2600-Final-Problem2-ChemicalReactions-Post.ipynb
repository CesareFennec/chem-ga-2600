{
 "cells": [
  {
   "cell_type": "markdown",
   "metadata": {},
   "source": [
    "# Problem 2 - Chemical Reactions\n",
    "- In this problem you will study the dynamics of the reactions \n",
    " - $ A \\leftrightarrow B $\n",
    " - $ A \\leftrightarrow B \\leftrightarrow C \\leftrightarrow A $\n",
    " \n",
    "You will do this using a Monte Carlo approach that accounts for 'time' of reactions, and also using the rate matrix approach mentioned in the final class. \n",
    "\n",
    "Below, I will set up and run the Monte Carlo for the $A/B$ system, and you will have to generalize it for the $A/B/C$ system as well as do the Matrix Equation solution"
   ]
  },
  {
   "cell_type": "code",
   "execution_count": null,
   "metadata": {},
   "outputs": [],
   "source": [
    "%pylab inline\n",
    "from matplotlib import pylab as plt\n",
    "import numpy as np"
   ]
  },
  {
   "cell_type": "markdown",
   "metadata": {},
   "source": [
    "### Extra info about rate equations\n",
    "Suppose you have $n$ different states in your system (like $n=2$ different types of molecules, $A$+$B$), then let $P$ represents the fraction in each state. So for example, for $n=2$, all $A$ would be $P=\\left(\n",
    "\\begin{array}{c}\n",
    "1\\\\\n",
    "0\\\\\n",
    "\\end{array}\n",
    "\\right)$, and all $B$ would be\n",
    "$\\left( \\begin{array}{c}\n",
    "0\\\\\n",
    "1\\\\\n",
    "\\end{array}\n",
    "\\right)$.\n",
    "\n",
    "The equation describing the rate of change of this population vector is \n",
    "$\\frac{dP}{dt} = W P$, where $W$ is a rate matrix\n",
    "\n",
    "$ W=\\left(\\begin{array}{c c}\n",
    "w_{11} w_{21}\\\\\n",
    "w_{12} w_{22} \\\\\n",
    "\\end{array}\n",
    "\\right)$, \n",
    "\n",
    "and the solution to this can be solved as $P(t) = e^{W t} P(0)$.\n",
    "\n",
    "In this matrix, the off-diagonal elements are the rate of transition between each state. It turns out the columns have to sum to $0$, so that condition gives the diagonal elements $w_{ii} = -\\sum_{i\\neq j} w_{ij}$\n",
    "\n",
    "We will use this info later!"
   ]
  },
  {
   "cell_type": "markdown",
   "metadata": {},
   "source": [
    "## Two-State Model Monte Carlo\n",
    "### For a 2 State Model, i.e. a reaction between A and B, the energy landscape might look like the following\n",
    "<img src=\"figures/2020/two-state.png\" width=\"400px\">\n",
    "\n",
    "We can do a Monte Carlo simulation where we try to move from the current state to the other state every $dt$. Consider the situation, $k_{AB}=1/sec$ and $k_{BA}=0.05/sec$, and $dt = 0.01 sec$.\n",
    "\n",
    "The probability of going from $A\\rightarrow B$ if in $A$ in time $dt$ is $k_{AB}dt$\n",
    "The probability of going from $B\\rightarrow A$ if in $B$ in time $dt$ is $k_{BA}dt$\n",
    "\n",
    "The Monte Carlo Algorithm is:\n",
    "- based on current state, compute transition probability\n",
    "- generate a random number $r$\n",
    " - if $r$ is less than transition probability, switch state\n",
    " - else, add current state to trajectory again"
   ]
  },
  {
   "cell_type": "code",
   "execution_count": null,
   "metadata": {},
   "outputs": [],
   "source": [
    "k_ab = 1\n",
    "k_ba = 0.05\n",
    "dt = 0.01\n",
    "seed = 1\n",
    "np.random.seed(seed)"
   ]
  },
  {
   "cell_type": "code",
   "execution_count": null,
   "metadata": {},
   "outputs": [],
   "source": [
    "# if in state 0 (A), what is the probability of switching\n",
    "p_switch = {\n",
    "    0: k_ab*dt,\n",
    "    1: k_ba*dt,\n",
    "}\n",
    "\n",
    "n_steps = 500000\n",
    "\n",
    "trajectory_list = []\n",
    "\n",
    "starting_state = 0\n",
    "trajectory = [starting_state]\n",
    "mc_times = dt*np.arange(n_steps+1)\n",
    "for i in range(n_steps):\n",
    "    current_state = trajectory[-1]\n",
    "    other_state = 1-current_state\n",
    "    transition_prob = p_switch[current_state]\n",
    "    if np.random.random() < transition_prob:\n",
    "        trajectory.append(other_state)\n",
    "    else:\n",
    "        trajectory.append(current_state)\n",
    "        \n",
    "trajectory = np.array(trajectory)"
   ]
  },
  {
   "cell_type": "code",
   "execution_count": null,
   "metadata": {},
   "outputs": [],
   "source": [
    "plt.plot(mc_times,trajectory)\n",
    "#only show first part of trajectory\n",
    "plt.xlim(0,1000)\n",
    "plt.ylabel(\"state\")\n",
    "plt.xlabel('time')\n",
    "\n",
    "prob_A = np.sum(trajectory==0)/len(trajectory)\n",
    "prob_B = np.sum(trajectory==1)/len(trajectory)\n",
    "\n",
    "print(\"Computed populations:\")\n",
    "print(\"\\tA:\",prob_A)\n",
    "print(\"\\tB:\",prob_B)"
   ]
  },
  {
   "cell_type": "markdown",
   "metadata": {},
   "source": [
    "### Problem 1.a)\n",
    "\n",
    "Using just $k_{ab}$ and $k_{ba}$, derive the expected fraction of molecules / fraction of the time you would expect the system to be in state 0 ($A$), and in 1 ($B$) (hint, this is related to the equilibrium constant). \n",
    "\n",
    "** Type the derivation here so I know that you know where it comes from **\n",
    "\n",
    "Compute these values in the cell below, and make sure they agree with the values above"
   ]
  },
  {
   "cell_type": "code",
   "execution_count": null,
   "metadata": {},
   "outputs": [],
   "source": []
  },
  {
   "cell_type": "markdown",
   "metadata": {},
   "source": [
    "### Problem 1.b) ###\n",
    "Below, construction the matrix $W$ for this two state system. \n",
    "\n",
    "The code with use the function `expm` to exponentiate the Matrix and compute the populations of the system starting from all in state 0 ($A$).\n",
    "\n",
    "Check that your final populations agree with the values above. You can add horizontal lines using `plt.axhline` to confirm that they go to these values for probability of $A$ and $B$ exactly."
   ]
  },
  {
   "cell_type": "code",
   "execution_count": null,
   "metadata": {},
   "outputs": [],
   "source": [
    "from scipy.linalg import expm\n",
    "\n",
    "prob_vec = np.array((1,0))\n",
    "populations = []\n",
    "eval_times = np.arange(0,10,0.1)\n",
    "for t in eval_times:\n",
    "    populations.append( np.dot(expm(W*t),prob_vec) )\n",
    "populations = np.array(populations)\n",
    "    \n",
    "plt.plot(eval_times,populations[:,0],label='$A$')\n",
    "plt.plot(eval_times,populations[:,1],label='$B$')\n",
    "\n",
    "#example axhline showing 50% in each population\n",
    "plt.axhline(0.5,linestyle='--',color='k')\n",
    "\n",
    "plt.legend(loc=0)\n",
    "plt.xlabel(\"$t$\")\n",
    "plt.xlim(0,10)\n"
   ]
  },
  {
   "cell_type": "markdown",
   "metadata": {},
   "source": [
    "### Problem 1c extra credit (only if you have time)\n",
    "Compute and plot the autocorrelation function of the trajectory from Monte Carlo above. Also plot the theoretical curve we derived in class for this two state model to see if they agree."
   ]
  },
  {
   "cell_type": "markdown",
   "metadata": {},
   "source": [
    "## Problem 2\n",
    "Consider the following 3 state model\n",
    "<img src=\"figures/2020/three-state.png\" width=\"500px\">\n",
    "\n",
    "a) Below, write the partition function for the three state model, using round numbers for the energies where the unit of energy is $k_B T=1$, i.e. $Z=e^{-E_A}+e^{-E_B}+e^{-E_C}$\n",
    "\n",
    "b) Using this partition function, write the expected fraction of the time you expect the system to be in state A,B, and C, and also do this in code below so you have the numbers\n"
   ]
  },
  {
   "cell_type": "code",
   "execution_count": null,
   "metadata": {},
   "outputs": [],
   "source": []
  },
  {
   "cell_type": "markdown",
   "metadata": {},
   "source": [
    "c) \n",
    " i. Construct the matrix $W$ for this problem, and compute the populations of the 3 state system vs time, starting with all the population in state $B$, using the exponential matrix code as above. Assume the rate $k_{AB}=1.0/sec$ .\n",
    "  \n",
    "  ii. Add horizontal lines with `plt.axhline` to show that your result from c.i matches your result from b\n",
    "  \n",
    "  It should look like the one below (but maybe not exactly)"
   ]
  },
  {
   "cell_type": "markdown",
   "metadata": {},
   "source": [
    "<img src=\"figures/2020/populations_3state.jpg\" width=\"400px\">\n"
   ]
  },
  {
   "cell_type": "code",
   "execution_count": null,
   "metadata": {},
   "outputs": [],
   "source": []
  },
  {
   "cell_type": "markdown",
   "metadata": {},
   "source": [
    "d) \n",
    "\n",
    "Generalize the Monte Carlo code from above to work for the three state model. \n",
    "\n",
    "Hint:  you can use the rate matrix you already created to figure out the probabilities of switching in your Monte Carlo code.\n",
    "\n",
    "i. As in my example above, show the state changeing from $0 \\rightarrow 1 \\rightarrow 2 $ with time\n",
    "\n",
    "ii. Show that the probability of being in each of the states ends up being the value that you predicted in 2b"
   ]
  },
  {
   "cell_type": "code",
   "execution_count": null,
   "metadata": {},
   "outputs": [],
   "source": []
  }
 ],
 "metadata": {
  "kernelspec": {
   "display_name": "Python 3",
   "language": "python",
   "name": "python3"
  },
  "language_info": {
   "codemirror_mode": {
    "name": "ipython",
    "version": 3
   },
   "file_extension": ".py",
   "mimetype": "text/x-python",
   "name": "python",
   "nbconvert_exporter": "python",
   "pygments_lexer": "ipython3",
   "version": "3.8.5"
  }
 },
 "nbformat": 4,
 "nbformat_minor": 2
}
