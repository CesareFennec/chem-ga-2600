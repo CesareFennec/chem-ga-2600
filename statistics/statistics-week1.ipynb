{
 "cells": [
  {
   "cell_type": "markdown",
   "metadata": {},
   "source": [
    "# In this homework, we're going to test empirically some of the statistical ideas we saw in class"
   ]
  },
  {
   "cell_type": "markdown",
   "metadata": {},
   "source": [
    "## Problem 1: Random walk on a 1d lattice\n",
    "In class we looked at how a \"random walk\" on a 1d lattice leads to diffusion. Let's show that it's true using data"
   ]
  },
  {
   "cell_type": "markdown",
   "metadata": {},
   "source": [
    "### Problem 1a - generating a trajectory for a random walk"
   ]
  },
  {
   "cell_type": "code",
   "execution_count": null,
   "metadata": {},
   "outputs": [],
   "source": [
    "%pylab inline\n",
    "import numpy as np\n",
    "\n",
    "\n",
    "#don't make either of these too big, unless you're running on your own machine\n",
    "number_of_independent_simulations = 10\n",
    "number_of_steps_to_take = 10000\n"
   ]
  },
  {
   "cell_type": "code",
   "execution_count": null,
   "metadata": {},
   "outputs": [],
   "source": [
    "#this function will plot results given a list of trajectories\n",
    "def plot_trajectories(trajectory_list):\n",
    "    for i in range(len(trajectory_list)):\n",
    "        plot(trajectory_list[i])\n",
    "    axhline(0,linestyle='--',color='black',lw=2)\n",
    "    ylabel(\"Position\")\n",
    "    xlabel(\"Time\")"
   ]
  },
  {
   "cell_type": "code",
   "execution_count": null,
   "metadata": {},
   "outputs": [],
   "source": [
    "# in this exercise, we need to take a random number in the range zero to one, and convert it to either a -1 or a 1\n",
    "def random_to_direction(random_number):\n",
    "#put a mathematical formula on the right hand sign of this equals sign that\n",
    "#  makes numbers in the range 0-0.5 into a -1,\n",
    "#  and numbers in the range 0.5-1.0 into +1\n",
    "#you may want to use the function np.floor(x), which rounds down a number to the nearest integer\n",
    "#you can also use an if statement, but it will be slower\n",
    "    direction = \n",
    "    return direction\n",
    "\n",
    "\n",
    "#this list will store the trajectories for independent runs\n",
    "trajectory_list = []\n",
    "\n",
    "#first let's run the simulation in the \"slow\" way\n",
    "# we need a for loop for independent simulations, and a for loop for making moves\n",
    "for i in range(number_of_independent_simulations):\n",
    "    \n",
    "    #positions of the particle at time i=0 up to max time T = number_of_steps_to_take, \n",
    "    # starts as all zeros, but we will fill this in\n",
    "    position_array = np.zeros(number_of_steps_to_take+1)\n",
    "    \n",
    "    for j in range(number_of_steps_to_take):\n",
    "        # the function np.random.random() generates a number from 0 to 1\n",
    "        change_in_position = random_to_direction(np.random.random()) \n",
    "        position_array[j+1] = position_array[j] + change_in_position\n",
    "    trajectory_list.append(position_array)\n",
    "    \n",
    "plot_trajectories(trajectory_list)"
   ]
  },
  {
   "cell_type": "code",
   "execution_count": null,
   "metadata": {},
   "outputs": [],
   "source": [
    "#let's do this is a way that uses the capabilities of numpy to do this calculation much more quickly\n",
    "#let's also do it as a function that returns the list of trajectories and can change number of independent sims\n",
    "def run_simulations(number_of_independent_simulations,number_of_steps_to_take):\n",
    "    trajectory_list = []\n",
    "    # we need a for loop for independent simulations, and a for loop for making moves\n",
    "    for i in range(number_of_independent_simulations):\n",
    "\n",
    "        # generate random numbers with a length number_of_steps_to_take\n",
    "        random_number_list = np.random.random(size=number_of_steps_to_take)\n",
    "        # let's generate all the displacements (-1,+1) at once using the same function\n",
    "        directions = random_to_direction(random_number_list)\n",
    "\n",
    "        #positions of the particle at time i=1 up to max time T = number_of_steps_to_take,     \n",
    "        position_array = np.cumsum(directions)\n",
    "\n",
    "        trajectory_list.append(position_array)\n",
    "    return trajectory_list\n",
    "\n",
    "#this list will store the trajectories for independent runs\n",
    "trajectory_list = run_simulations(5,5000)\n",
    "\n",
    "plot_trajectories(trajectory_list)"
   ]
  },
  {
   "cell_type": "markdown",
   "metadata": {},
   "source": [
    "### Problem 1b - how many trajectories do you need to see diffusive behavior\n",
    "Fill in the following code to compute the mean squared displacement as a function of time\n",
    "Then change the number of independent simulations and see if the mean-squared displacement 'converges' to diffusive behavior, i.e. looks like a straight line"
   ]
  },
  {
   "cell_type": "code",
   "execution_count": null,
   "metadata": {},
   "outputs": [],
   "source": [
    "number_of_independent_simulations = 2\n",
    "trajectory_list = run_simulations(number_of_independent_simulations,1000)\n",
    "\n",
    "#let's turn this into an array with num_independent_simulations as the rows and coordinates as the columns\n",
    "trajectory_array = np.array(trajectory_list)\n",
    "# you can see the shape of the array like this. Each one corresponds to a different 'axis' in the array. \n",
    "# which one is time? which one is number of independent simulations?\n",
    "print(\"array shape:\",trajectory_array.shape)\n",
    "\n",
    "#the axis flag let's you compute a numpy function just over one dimension of the array. \n",
    "# fill in the axis on the next line corresponding to an average at a fixed time. value from 0,1,...,N-1\n",
    "msd = np.var(trajectory_array,axis=      )\n",
    "#this is a list of numbers from zero to T\n",
    "times = np.arange(trajectory_array.shape[1])\n",
    "\n",
    "plot(times,msd,label=\"mean square distlacement\")\n",
    "plot(times,times,label='linear in time')\n",
    "\n",
    "#matplotlib supports latex formatting between dollar signs. some slashes need to be replaced by \n",
    "# double slash because of python 'escape characters' (e.g. \\n means newline without having the double slash)\n",
    "ylabel(\"Var(x)=$\\\\langle (x(t)-\\mu)^2 \\\\rangle$\")\n",
    "xlabel(\"$t$\")\n",
    "legend()"
   ]
  },
  {
   "cell_type": "code",
   "execution_count": null,
   "metadata": {},
   "outputs": [],
   "source": [
    "# now we will see how variance in the mean final position depends on number of independent simulations\n",
    "# to estimate the variance, we will have to do more independent simulations on top of the first set\n",
    "n_repeats_to_get_variance_estimate = 200\n",
    "\n",
    "#  let's use the np power function to generate a list of number of independent samples from 2 to 256\n",
    "# power will raise a number a to an exponent p. if you pass it a list of numbers from p=1 to p=pmax, you will\n",
    "#  get a list 2^1, 2^2, ..., 2^pmax\n",
    "# put your list of numbers in the parentheses on the next line, hint, use the range or np.arange function\n",
    "list_of_number_of_independent_samples = np.power(2,       )\n",
    "print(list_of_number_of_independent_samples)\n",
    "\n",
    "list_of_mean_position_vs_time = []\n",
    "\n",
    "for i in range(n_repeats_to_get_variance_estimate):\n",
    "    avg_position_list = []\n",
    "    for number_of_independent_simulations in list_of_number_of_independent_samples: \n",
    "        trajectory_list = run_simulations(number_of_independent_simulations,1000)\n",
    "        # use the np.mean function to generate average position vs time, averaged over the independent simulations\n",
    "        # fill in the right 'axis' here where it is blank\n",
    "        avg_positions = np.mean(np.array(trajectory_list), axis=    )\n",
    "        avg_position_list.append(avg_positions)\n",
    "    list_of_mean_position_vs_time.append(np.array(avg_position_list))\n",
    "    \n",
    "#use the np.variance function to find the variance over n_repeats in the mean position at every time\n",
    "# for each number of trials\n",
    "variance_array = np.var(np.array(list_of_mean_position_vs_time),axis=0)\n",
    "\n",
    "#plot variance vs number of independent samples at times 10, 30, 100, 300, 1000\n",
    "figure()\n",
    "for t in [9,29,99,299,999]:\n",
    "    plot(list_of_number_of_independent_samples,variance_array[:,t],label='time=%.f'%(t+1))\n",
    "legend(loc=0)\n",
    "xscale('log')\n",
    "yscale('log')\n",
    "xlabel(\"$N_{samples}$\")\n",
    "ylabel(\"Var($\\\\mu_{N_samples}$)\")\n",
    "\n"
   ]
  },
  {
   "cell_type": "code",
   "execution_count": null,
   "metadata": {},
   "outputs": [],
   "source": [
    "# we already showed in class and above that the expected variance is proportional to t, so \n",
    "#  if we divide the variance by t, the data should collapse, let's try it, and also see what 1/n_samples looks like\n",
    "\n",
    "figure()\n",
    "for t in [9,29,99,299,999]:\n",
    "    # plot the value of the variance array at time t divided by the time t\n",
    "    plot(list_of_number_of_independent_samples,             ,label='time=%.f'%(t+1))\n",
    "\n",
    "plot(list_of_number_of_independent_samples,1/list_of_number_of_independent_samples,label='$1/N_{samples}$',\n",
    "    linestyle='--',lw=3,color='black')\n",
    "legend(loc=0)\n",
    "xscale('log')\n",
    "yscale('log')\n",
    "ylabel(\"Var($\\\\mu_{N_samples}$)/t\")\n",
    "xlabel(\"$N_{samples}$\")"
   ]
  },
  {
   "cell_type": "markdown",
   "metadata": {},
   "source": [
    "### Problem 1c - central limit theorem (just run this to see what it looks like)\n",
    "Let's histogram the values at the final time from the previous example to see how the distribution of the mean changes"
   ]
  },
  {
   "cell_type": "code",
   "execution_count": null,
   "metadata": {},
   "outputs": [],
   "source": [
    "mean_positions_final_time = np.array(list_of_mean_position_vs_time)[:,:,-1]\n",
    "for i in range(mean_positions_final_time.shape[1]):\n",
    "    num_samples = list_of_number_of_independent_samples[i]\n",
    "    hist,bins = np.histogram(mean_positions_final_time[:,i],bins=10,density=True)\n",
    "    plot((bins[:-1]+bins[1:])/2.0,hist,label='samples=%i'%num_samples)\n",
    "legend(loc=0)\n"
   ]
  },
  {
   "cell_type": "code",
   "execution_count": null,
   "metadata": {},
   "outputs": [],
   "source": []
  }
 ],
 "metadata": {
  "kernelspec": {
   "display_name": "Python 3",
   "language": "python",
   "name": "python3"
  },
  "language_info": {
   "codemirror_mode": {
    "name": "ipython",
    "version": 3
   },
   "file_extension": ".py",
   "mimetype": "text/x-python",
   "name": "python",
   "nbconvert_exporter": "python",
   "pygments_lexer": "ipython3",
   "version": "3.6.5"
  }
 },
 "nbformat": 4,
 "nbformat_minor": 2
}
